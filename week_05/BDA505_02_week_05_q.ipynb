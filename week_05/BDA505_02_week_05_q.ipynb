{
 "cells": [
  {
   "cell_type": "code",
   "execution_count": 1,
   "metadata": {},
   "outputs": [
    {
     "name": "stderr",
     "output_type": "stream",
     "text": [
      "Loading required package: DBI\n"
     ]
    }
   ],
   "source": [
    "library(RPostgreSQL)"
   ]
  },
  {
   "cell_type": "code",
   "execution_count": 2,
   "metadata": {},
   "outputs": [
    {
     "data": {
      "text/plain": [
       "<PostgreSQLDriver>"
      ]
     },
     "metadata": {},
     "output_type": "display_data"
    }
   ],
   "source": [
    "drvv <- dbDriver(\"PostgreSQL\")\n",
    "drvv"
   ]
  },
  {
   "cell_type": "code",
   "execution_count": 3,
   "metadata": {},
   "outputs": [
    {
     "data": {
      "text/plain": [
       "<PostgreSQLConnection>"
      ]
     },
     "metadata": {},
     "output_type": "display_data"
    }
   ],
   "source": [
    "con <- dbConnect(drvv,\n",
    "                 dbname = \"imdb\",\n",
    "                 host = \"localhost\",\n",
    "                 port = 5432,\n",
    "                 user = \"postgres\",\n",
    "                 password = \"bda505\")\n",
    "\n",
    "con"
   ]
  },
  {
   "cell_type": "markdown",
   "metadata": {},
   "source": [
    "Now the task is:\n",
    "- First get the count of average rating of movies by Alfred Hitchcock (excluding NULL ratings) with an SQL query\n",
    "- And summarize these values by decades (total count of movies and average rating by decade)\n",
    "- You can use dbGetQuery to query SQL from R\n",
    "- You can use floor division by floor(a/b) or its operator %/% in R\n",
    "- You can use aggregate function in R\n",
    "- You can recycle all codes that we have written sor far, or use the net\n",
    "- You can cooperate"
   ]
  },
  {
   "cell_type": "code",
   "execution_count": null,
   "metadata": {},
   "outputs": [],
   "source": []
  }
 ],
 "metadata": {
  "kernelspec": {
   "display_name": "R",
   "language": "R",
   "name": "ir"
  },
  "language_info": {
   "codemirror_mode": "r",
   "file_extension": ".r",
   "mimetype": "text/x-r-source",
   "name": "R",
   "pygments_lexer": "r",
   "version": "3.4.2"
  }
 },
 "nbformat": 4,
 "nbformat_minor": 2
}
