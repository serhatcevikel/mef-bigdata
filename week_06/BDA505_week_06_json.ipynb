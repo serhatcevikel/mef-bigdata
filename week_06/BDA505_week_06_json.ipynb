{
 "cells": [
  {
   "cell_type": "markdown",
   "metadata": {},
   "source": [
    "# JSON FORMAT, NOSQL AND MONGODB"
   ]
  },
  {
   "cell_type": "markdown",
   "metadata": {},
   "source": [
    "Note: For convenience, it is better that you click on New > Terminal from the Home page of Jupyter"
   ]
  },
  {
   "cell_type": "markdown",
   "metadata": {},
   "source": [
    "JSON is a hierarchical data format that allows data that is not appropriate to be formatted as columns and rows to be stored and queried."
   ]
  },
  {
   "cell_type": "markdown",
   "metadata": {},
   "source": [
    "Let's say we are tracking our contact data in a csv file:"
   ]
  },
  {
   "cell_type": "markdown",
   "metadata": {},
   "source": [
    "Lastname, Firstname, Phone Number\n",
    "\n",
    "Membrey, Peter, +852 1234 5678\n",
    "\n",
    "Thielen, Wouter, +81 1234 5678"
   ]
  },
  {
   "cell_type": "markdown",
   "metadata": {},
   "source": [
    "If one of the contacts have more than one phone numbers, we have to create a new column"
   ]
  },
  {
   "cell_type": "markdown",
   "metadata": {},
   "source": [
    "Lastname, Firstname, Phone Number1, Phone Number2\n",
    "\n",
    "Membrey, Peter, +852 1234 5678, +44 1234 565 555\n",
    "\n",
    "Thielen, Wouter, +81 1234 5678"
   ]
  },
  {
   "cell_type": "markdown",
   "metadata": {},
   "source": [
    "But suppose, we have million of records with tens of fields, and in some exceptions, some records may have many multiple values of some fields: e.g. 10 telephone numbers, etc"
   ]
  },
  {
   "cell_type": "markdown",
   "metadata": {},
   "source": [
    "JSON format is a remedy for these kinds of flexibility issues and hierarchical data formats.\n",
    "\n",
    "Integrity rules are softer for handling JSON data"
   ]
  },
  {
   "cell_type": "markdown",
   "metadata": {},
   "source": [
    "JSON stands for \"JavaScript Object Notation\""
   ]
  },
  {
   "cell_type": "markdown",
   "metadata": {},
   "source": [
    "In JSON, each record is called a \"document\""
   ]
  },
  {
   "cell_type": "markdown",
   "metadata": {},
   "source": [
    "Let's write the first record as a JSON document:"
   ]
  },
  {
   "cell_type": "code",
   "execution_count": null,
   "metadata": {},
   "outputs": [],
   "source": [
    "record1='{\n",
    "\"firstname\": \"Peter\",\n",
    "\"lastname\": \"Membrey\",\n",
    "\"phone_numbers\": [\n",
    "\"+852 1234 5678\",\n",
    "\"+44 1234 565 555\"\n",
    "]\n",
    "}'\n",
    "\n",
    "echo $record1"
   ]
  },
  {
   "cell_type": "markdown",
   "metadata": {},
   "source": [
    "Echoing the JSON as comma separated values as such, is not easy to parse and understand the format.\n",
    "\n",
    "We may use online json parsers for this purpose.\n",
    "\n",
    "You can copy and paste the above string into the input pane:"
   ]
  },
  {
   "cell_type": "markdown",
   "metadata": {},
   "source": [
    "http://jsonparseronline.com/"
   ]
  },
  {
   "cell_type": "markdown",
   "metadata": {},
   "source": [
    "Or better, we will use a handy tool called \"jq\" for this purpose:"
   ]
  },
  {
   "cell_type": "code",
   "execution_count": null,
   "metadata": {},
   "outputs": [],
   "source": [
    "echo $record1 | jq ."
   ]
  },
  {
   "cell_type": "markdown",
   "metadata": {},
   "source": [
    "jq is a parser and querying tool for json, that creates a nice output"
   ]
  },
  {
   "cell_type": "markdown",
   "metadata": {},
   "source": [
    "You can have more info on jq following the links:\n",
    "\n",
    "[The Home Page](https://stedolan.github.io/jq/)\n",
    "\n",
    "[Tutorial](https://stedolan.github.io/jq/tutorial/)\n",
    "\n",
    "[Manual](https://stedolan.github.io/jq/manual/)"
   ]
  },
  {
   "cell_type": "markdown",
   "metadata": {},
   "source": [
    "Each document (equivalent to a row in RDBMS) in JSON is delimited by curly braces \"{\"\n",
    "And all values are given as \"key\" and \"value\" pairs:\n",
    "\n",
    "```json\n",
    "{\n",
    "  \"firstname\": \"Peter\",\n",
    "  \"lastname\": \"Membrey\",\n",
    "  \"phone_numbers\": [\n",
    "    \"+852 1234 5678\",\n",
    "    \"+44 1234 565 555\"\n",
    "  ]\n",
    "}\n",
    "```\n",
    "\n",
    "firstname is the key, \"Peter\" is the value, an so on\n",
    "\n",
    "We also have arrays of values for a single key, delimited by square brackets []"
   ]
  },
  {
   "cell_type": "markdown",
   "metadata": {},
   "source": [
    "What is more powerful about JSON format is that you can embedded documents inside other ones: (we print the data here in three visual formats)"
   ]
  },
  {
   "cell_type": "code",
   "execution_count": null,
   "metadata": {},
   "outputs": [],
   "source": [
    "record1b='{\n",
    "\"firstname\": \"Peter\",\n",
    "\"lastname\": \"Membrey\",\n",
    "\"numbers\": [\n",
    "{\n",
    "\"phone\": \"+852 1234 5678\"\n",
    "},\n",
    "{\n",
    "\"fax\": \"+44 1234 565 555\"\n",
    "}\n",
    "]\n",
    "}'\n",
    "\n",
    "echo -e $record1b \"\\n\"\n",
    "\n",
    "echo -e \"$record1b\\n\"\n",
    "\n",
    "echo $record1b | jq ."
   ]
  },
  {
   "cell_type": "markdown",
   "metadata": {},
   "source": [
    "See, the phone and fax numbers are inside embedded documents"
   ]
  },
  {
   "cell_type": "markdown",
   "metadata": {},
   "source": [
    "Multiple documents can be \"collected\" inside \"collections\":\n",
    "\n",
    "A \"collection\" in NoSQL terminology is analogous to a \"table\" in the RDBMS jargon. A collection is a collection of similar items (or documents with similar key-value pairs)"
   ]
  },
  {
   "cell_type": "markdown",
   "metadata": {},
   "source": [
    "MongoDB assigns a unique \"_id\" for each document - this _id key is similar to primary key in rdbms"
   ]
  },
  {
   "cell_type": "markdown",
   "metadata": {},
   "source": [
    "Note that, JSON is a text format, while MongoDB keeps the data as BSON - Binary JSON.\n",
    "\n",
    "BSON is faster to traverse through.\n",
    "\n",
    "Although binary format occupies less space than text (ASCII or UTF-8) format, extra data in terms of indices, etc. may render BSON format heavier in terms of space"
   ]
  },
  {
   "cell_type": "markdown",
   "metadata": {},
   "source": [
    "Now before we go on to MongoDB, let's give some info on our JSON database"
   ]
  },
  {
   "cell_type": "markdown",
   "metadata": {},
   "source": [
    "We will be using a part of the UN COMTRADE database:"
   ]
  },
  {
   "cell_type": "markdown",
   "metadata": {},
   "source": [
    "[UN COMTRADE](https://comtrade.un.org/)"
   ]
  },
  {
   "cell_type": "markdown",
   "metadata": {},
   "source": [
    "UN COMTRADE is the widest and most comprehensive database on international trade:\n",
    "\n",
    "- 250+ reporter countries\n",
    "- 290+ partner countries\n",
    "- 6500+ commodity codes\n",
    "- 50+ of history\n",
    "- Both imports and exports\n",
    "- Both values and quantities!"
   ]
  },
  {
   "cell_type": "markdown",
   "metadata": {},
   "source": [
    "First make the paths easier to write:"
   ]
  },
  {
   "cell_type": "code",
   "execution_count": null,
   "metadata": {},
   "outputs": [],
   "source": [
    "weekpath=/home/bda505/mef-bigdata/week_06"
   ]
  },
  {
   "cell_type": "code",
   "execution_count": null,
   "metadata": {},
   "outputs": [],
   "source": [
    "cat $weekpath/comtrade_tables/classificationH4.json | leafpad &"
   ]
  },
  {
   "cell_type": "markdown",
   "metadata": {},
   "source": [
    "The head of the file is:"
   ]
  },
  {
   "cell_type": "markdown",
   "metadata": {},
   "source": [
    "```json\n",
    "{\n",
    "\t\"more\": false,\n",
    "\t\"minimumInputLength\": 2,\n",
    "\t\"classCode\": \"H4\",\n",
    "\t\"className\": \"HS2012\",\n",
    "\t\"results\": [{\n",
    "\t\t\"id\": \"ALL\",\n",
    "\t\t\"text\": \"All HS2012 categories\",\n",
    "\t\t\"parent\": \"#\"\n",
    "\t},\n",
    "\t{\n",
    "\t\t\"id\": \"TOTAL\",\n",
    "\t\t\"text\": \"Total of all HS2012 commodities\",\n",
    "\t\t\"parent\": \"#\"\n",
    "\t},\n",
    "```"
   ]
  },
  {
   "cell_type": "markdown",
   "metadata": {},
   "source": [
    "A better way to page json data nice is to use jq and less (but it won't work inside Jupyter:\n",
    "\n",
    "jq . $weekpath/comtrade_tables/classificationH4.json -C | less -R\n",
    "\n",
    "or\n",
    "\n",
    "cat $weekpath/comtrade_tables/classificationH4.json | jq . -C | less -R\n"
   ]
  },
  {
   "cell_type": "markdown",
   "metadata": {},
   "source": [
    "Extract the item codes:"
   ]
  },
  {
   "cell_type": "code",
   "execution_count": null,
   "metadata": {},
   "outputs": [],
   "source": [
    "cat $weekpath/comtrade_tables/classificationH4.json | \\\n",
    "jq '(.results | .[] | .id)' | \\\n",
    "head"
   ]
  },
  {
   "cell_type": "markdown",
   "metadata": {},
   "source": [
    "And their definitions:"
   ]
  },
  {
   "cell_type": "code",
   "execution_count": null,
   "metadata": {},
   "outputs": [],
   "source": [
    "cat $weekpath/comtrade_tables/classificationH4.json | \\\n",
    "jq '(.results | .[] | .text)' | \\\n",
    "head"
   ]
  },
  {
   "cell_type": "markdown",
   "metadata": {},
   "source": [
    "To see how many id's are available in the database:"
   ]
  },
  {
   "cell_type": "code",
   "execution_count": null,
   "metadata": {},
   "outputs": [],
   "source": [
    "cat $weekpath/comtrade_tables/classificationH4.json | \\\n",
    "jq '(.results | .[] | .id)' | \\\n",
    "wc -l"
   ]
  },
  {
   "cell_type": "markdown",
   "metadata": {},
   "source": [
    "Now let's see the reporter countries:"
   ]
  },
  {
   "cell_type": "code",
   "execution_count": null,
   "metadata": {},
   "outputs": [],
   "source": [
    "cat $weekpath/comtrade_tables/reporterAreas.json | leafpad &"
   ]
  },
  {
   "cell_type": "code",
   "execution_count": null,
   "metadata": {},
   "outputs": [],
   "source": [
    "cat $weekpath/comtrade_tables/reporterAreas.json | \\\n",
    "jq '(.results | .[] | .id)' | \\\n",
    "head"
   ]
  },
  {
   "cell_type": "markdown",
   "metadata": {},
   "source": [
    "If we don't want the quotes:"
   ]
  },
  {
   "cell_type": "code",
   "execution_count": null,
   "metadata": {},
   "outputs": [],
   "source": [
    "cat $weekpath/comtrade_tables/reporterAreas.json | \\\n",
    "jq '(.results | .[] | .id)' | \\\n",
    "sed 's/\"//g' | \\\n",
    "head"
   ]
  },
  {
   "cell_type": "markdown",
   "metadata": {},
   "source": [
    "And country names:"
   ]
  },
  {
   "cell_type": "code",
   "execution_count": null,
   "metadata": {},
   "outputs": [],
   "source": [
    "cat $weekpath/comtrade_tables/reporterAreas.json | \\\n",
    "jq '(.results | .[] | .text)' | \\\n",
    "sed 's/\"//g' | \\\n",
    "head"
   ]
  },
  {
   "cell_type": "markdown",
   "metadata": {},
   "source": [
    "And their counts:"
   ]
  },
  {
   "cell_type": "code",
   "execution_count": null,
   "metadata": {},
   "outputs": [],
   "source": [
    "cat $weekpath/comtrade_tables/reporterAreas.json | \\\n",
    "jq '(.results | .[] | .id)' | \\\n",
    "wc -l"
   ]
  },
  {
   "cell_type": "markdown",
   "metadata": {},
   "source": [
    "And for the partner countries:"
   ]
  },
  {
   "cell_type": "code",
   "execution_count": null,
   "metadata": {},
   "outputs": [],
   "source": [
    "cat $weekpath/comtrade_tables/partnerAreas.json | \\\n",
    "jq '(.results | .[] | .id)' | \\\n",
    "wc -l"
   ]
  },
  {
   "cell_type": "markdown",
   "metadata": {},
   "source": [
    "What can be done with this database?"
   ]
  },
  {
   "cell_type": "markdown",
   "metadata": {},
   "source": [
    "[Atlas of Economic Complexity](http://atlas.cid.harvard.edu/)"
   ]
  },
  {
   "cell_type": "markdown",
   "metadata": {},
   "source": [
    "It is a very comprehensive study that aims to calculate the \"complexity\" (sophistication) level of economies and products"
   ]
  },
  {
   "cell_type": "markdown",
   "metadata": {},
   "source": [
    "UN COMTRADE database is freely and publicly available with some technical limitations as documented in the API information:\n",
    "\n",
    "[The UN Comtrade data extraction API](https://comtrade.un.org/data/doc/api/)\n",
    "\n",
    "- Each query can at most return 50K values\n",
    "- An IP can only send 100 requests per hour"
   ]
  },
  {
   "cell_type": "markdown",
   "metadata": {},
   "source": [
    "The best approach is the send a query per reporter / partner pair\n",
    "\n",
    "255 * 293 = 74715 queries\n",
    "\n",
    "And use some proxies to stretch the limit!"
   ]
  },
  {
   "cell_type": "markdown",
   "metadata": {},
   "source": [
    "Actually we see that total number of pairs that have trade are much less than that:"
   ]
  },
  {
   "cell_type": "code",
   "execution_count": null,
   "metadata": {},
   "outputs": [],
   "source": [
    "dataset04=/home/bda505/mef/04/comtrade_2015"
   ]
  },
  {
   "cell_type": "code",
   "execution_count": null,
   "metadata": {},
   "outputs": [],
   "source": [
    "ls $dataset04/gz | head"
   ]
  },
  {
   "cell_type": "markdown",
   "metadata": {},
   "source": [
    "We have files as such\n",
    "\n",
    "And the count is:"
   ]
  },
  {
   "cell_type": "code",
   "execution_count": null,
   "metadata": {},
   "outputs": [],
   "source": [
    "ls $dataset04/gz | wc -l"
   ]
  },
  {
   "cell_type": "markdown",
   "metadata": {},
   "source": [
    "So our database is ALL INTERNATIONAL TRADE IN THE MOST DETAILED FORM IN 2015, in 27924 files"
   ]
  },
  {
   "cell_type": "markdown",
   "metadata": {},
   "source": [
    "Now let's view one of them. But first get some country codes"
   ]
  },
  {
   "cell_type": "code",
   "execution_count": null,
   "metadata": {},
   "outputs": [],
   "source": [
    "cat $weekpath/comtrade_tables/reporterAreas.json | \\\n",
    "jq '(.results | .[] | select(.text == \"Turkey\") | {id, text})'"
   ]
  },
  {
   "cell_type": "code",
   "execution_count": null,
   "metadata": {},
   "outputs": [],
   "source": [
    "cat $weekpath/comtrade_tables/partnerAreas.json | \\\n",
    "jq '(.results | .[] | select(.text == \"Germany\") | {id, text})'"
   ]
  },
  {
   "cell_type": "markdown",
   "metadata": {},
   "source": [
    "Copy this into a terminal please:\n",
    "\n",
    "zcat $dataset04/gz/2015_792_276.json.gz | jq . -C | less -R"
   ]
  },
  {
   "cell_type": "markdown",
   "metadata": {},
   "source": [
    "Now, how many items has Turkey exported to Germanyin 2015?"
   ]
  },
  {
   "cell_type": "markdown",
   "metadata": {},
   "source": [
    "First, the descriptions:"
   ]
  },
  {
   "cell_type": "code",
   "execution_count": null,
   "metadata": {},
   "outputs": [],
   "source": [
    "zcat $dataset04/gz/2015_792_276.json.gz | jq '(.dataset | .[] | select(.rgDesc == \"Export\") | .cmdDescE)' | head"
   ]
  },
  {
   "cell_type": "markdown",
   "metadata": {},
   "source": [
    "And the codes:"
   ]
  },
  {
   "cell_type": "code",
   "execution_count": null,
   "metadata": {},
   "outputs": [],
   "source": [
    "zcat $dataset04/gz/2015_792_276.json.gz | jq '(.dataset | .[] | select(.rgDesc == \"Export\") | .cmdCode)' | head"
   ]
  },
  {
   "cell_type": "code",
   "execution_count": null,
   "metadata": {},
   "outputs": [],
   "source": [
    "zcat $dataset04/gz/2015_792_276.json.gz | jq '(.dataset | .[] | select(.rgDesc == \"Export\") | .cmdCode)' | wc -l"
   ]
  },
  {
   "cell_type": "markdown",
   "metadata": {},
   "source": [
    "So Turkey exported commodity to Germany under 4223 headings in 2015"
   ]
  },
  {
   "cell_type": "markdown",
   "metadata": {},
   "source": [
    "And what about imports?"
   ]
  },
  {
   "cell_type": "code",
   "execution_count": null,
   "metadata": {},
   "outputs": [],
   "source": [
    "zcat $dataset04/gz/2015_792_276.json.gz | jq '(.dataset | .[] | select(.rgDesc == \"Import\") | .cmdCode)' | wc -l"
   ]
  },
  {
   "cell_type": "markdown",
   "metadata": {},
   "source": [
    "Turkey imported commodities from Germany under 6053 headings in 2015"
   ]
  },
  {
   "cell_type": "markdown",
   "metadata": {},
   "source": [
    "Is it possible to double check this information from the counterpart's reported figures?"
   ]
  },
  {
   "cell_type": "markdown",
   "metadata": {},
   "source": [
    "Yes, provided that both countries are reporters, we can just swap the country codes!"
   ]
  },
  {
   "cell_type": "markdown",
   "metadata": {},
   "source": [
    "Germany's imports are Turkey's exports:"
   ]
  },
  {
   "cell_type": "code",
   "execution_count": null,
   "metadata": {},
   "outputs": [],
   "source": [
    "zcat $dataset04/gz/2015_276_792.json.gz | jq '(.dataset | .[] | select(.rgDesc == \"Import\") | .cmdCode)' | wc -l"
   ]
  },
  {
   "cell_type": "markdown",
   "metadata": {},
   "source": [
    "And Germany's exports are Turkey's imports:"
   ]
  },
  {
   "cell_type": "code",
   "execution_count": null,
   "metadata": {},
   "outputs": [],
   "source": [
    "zcat $dataset04/gz/2015_276_792.json.gz | jq '(.dataset | .[] | select(.rgDesc == \"Export\") | .cmdCode)' | wc -l"
   ]
  },
  {
   "cell_type": "markdown",
   "metadata": {},
   "source": [
    "See that, Germany reports more items both in exports and imports"
   ]
  },
  {
   "cell_type": "markdown",
   "metadata": {},
   "source": [
    "Now an exercise for you:"
   ]
  },
  {
   "cell_type": "markdown",
   "metadata": {},
   "source": [
    "From the file $weekpath/comtrade_tables/classificationH4.json\n",
    "\n",
    "Get the text of all items parent of which is:\n",
    "\n",
    "{\n",
    "      \"id\": \"1104\",\n",
    "      \"text\": \"1104 - Cereal grains otherwise worked (e.g. hulled, rolled, flaked, pearled, sliced or kibbled) except rice of heading no. 1006; germ of cereals whole, rolled, flaked or ground\",\n",
    "      \"parent\": \"11\"\n",
    "    },\n"
   ]
  },
  {
   "cell_type": "code",
   "execution_count": null,
   "metadata": {},
   "outputs": [],
   "source": []
  },
  {
   "cell_type": "markdown",
   "metadata": {},
   "source": [
    "Now it is time to unzip the gz files and import into mongodb"
   ]
  },
  {
   "cell_type": "markdown",
   "metadata": {},
   "source": [
    "** Note that first check whether the files are already gunzipped since it takes too much time! **"
   ]
  },
  {
   "cell_type": "code",
   "execution_count": null,
   "metadata": {},
   "outputs": [],
   "source": [
    "ls $dataset04/json | wc -l"
   ]
  },
  {
   "cell_type": "markdown",
   "metadata": {},
   "source": [
    "First create a folder for gunzipped json files"
   ]
  },
  {
   "cell_type": "code",
   "execution_count": null,
   "metadata": {},
   "outputs": [],
   "source": [
    "mkdir $dataset04/json"
   ]
  },
  {
   "cell_type": "markdown",
   "metadata": {},
   "source": [
    "gunzip gz files keeping the zipped files! Note the \"-k\" flag (f flag forces overwrite):"
   ]
  },
  {
   "cell_type": "code",
   "execution_count": null,
   "metadata": {},
   "outputs": [],
   "source": [
    "gunzip -fk $dataset04/gz/*"
   ]
  },
  {
   "cell_type": "markdown",
   "metadata": {},
   "source": [
    "Move unzziped jsons to json directory:"
   ]
  },
  {
   "cell_type": "code",
   "execution_count": null,
   "metadata": {},
   "outputs": [],
   "source": [
    "mv $dataset04/gz/*.json $dataset04/json"
   ]
  },
  {
   "cell_type": "markdown",
   "metadata": {},
   "source": [
    "And import the data into a new db and collection"
   ]
  },
  {
   "cell_type": "code",
   "execution_count": null,
   "metadata": {},
   "outputs": [],
   "source": [
    "cd $dataset04/json\n",
    "for file in *.json; do mongoimport --db comtrade --collection 2015 $dataset04/json/$file; done"
   ]
  },
  {
   "cell_type": "markdown",
   "metadata": {},
   "source": [
    "And fire up the mongodb client robomongo"
   ]
  },
  {
   "cell_type": "code",
   "execution_count": null,
   "metadata": {},
   "outputs": [],
   "source": [
    "robomongo &"
   ]
  },
  {
   "cell_type": "markdown",
   "metadata": {},
   "source": [
    "See that the collection is created and is there"
   ]
  },
  {
   "cell_type": "markdown",
   "metadata": {},
   "source": [
    "Some simple queries that you can apply:"
   ]
  },
  {
   "cell_type": "markdown",
   "metadata": {},
   "source": [
    "db.getCollection('2015').find({'dataset.ptCode':288})\n",
    "\n",
    "db.getCollection('2015').find({'dataset.rtTitle':\"Bulgaria\"})\n",
    "\n",
    "db.getCollection('2015').find({ 'dataset.rtTitle' : \"Bulgaria\", $and : [{ 'dataset.ptTitle' : \"Ghana\"} ] } )"
   ]
  }
 ],
 "metadata": {
  "kernelspec": {
   "display_name": "Bash",
   "language": "bash",
   "name": "bash"
  },
  "language_info": {
   "codemirror_mode": "shell",
   "file_extension": ".sh",
   "mimetype": "text/x-sh",
   "name": "bash"
  }
 },
 "nbformat": 4,
 "nbformat_minor": 2
}
